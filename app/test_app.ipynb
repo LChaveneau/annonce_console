{
 "cells": [
  {
   "cell_type": "code",
   "execution_count": 5,
   "id": "acute-opera",
   "metadata": {},
   "outputs": [],
   "source": [
    "import app\n",
    "import ipywidgets as ipw"
   ]
  },
  {
   "cell_type": "code",
   "execution_count": 6,
   "id": "visible-quarter",
   "metadata": {},
   "outputs": [
    {
     "name": "stdout",
     "output_type": "stream",
     "text": [
      "MLPRegressor(activation='identity', alpha=0.01, solver='lbfgs')\n"
     ]
    }
   ],
   "source": [
    "app.check_modele()"
   ]
  },
  {
   "cell_type": "code",
   "execution_count": 7,
   "id": "urban-louisiana",
   "metadata": {},
   "outputs": [],
   "source": [
    "appli = app.Application()"
   ]
  },
  {
   "cell_type": "code",
   "execution_count": 8,
   "id": "academic-shopping",
   "metadata": {},
   "outputs": [
    {
     "data": {
      "application/vnd.jupyter.widget-view+json": {
       "model_id": "097f6f43646e496282561cce2099b6f6",
       "version_major": 2,
       "version_minor": 0
      },
      "text/plain": [
       "VBox(children=(HBox(children=(Combobox(value='', options=('2DSXL', '3DS', '3DS XL', 'DSi', 'DSi XL', 'DSlite',…"
      ]
     },
     "metadata": {},
     "output_type": "display_data"
    },
    {
     "data": {
      "application/vnd.jupyter.widget-view+json": {
       "model_id": "ef0c6f7f09c24ab5b24360434b505672",
       "version_major": 2,
       "version_minor": 0
      },
      "text/plain": [
       "Output()"
      ]
     },
     "metadata": {},
     "output_type": "display_data"
    },
    {
     "data": {
      "application/vnd.jupyter.widget-view+json": {
       "model_id": "76aa10336ab844d38a88feb18355bf6b",
       "version_major": 2,
       "version_minor": 0
      },
      "text/plain": [
       "Output()"
      ]
     },
     "metadata": {},
     "output_type": "display_data"
    }
   ],
   "source": [
    "appli.affichage()"
   ]
  },
  {
   "cell_type": "markdown",
   "id": "cosmetic-convention",
   "metadata": {},
   "source": [
    "Les reseaux de neurones semblent être un mauvais modèle pour nos données malgré un MSE plutôt faible.\n",
    "\n",
    "Beaucoup d'estimations sont négatives"
   ]
  },
  {
   "cell_type": "code",
   "execution_count": null,
   "id": "artistic-category",
   "metadata": {},
   "outputs": [],
   "source": []
  }
 ],
 "metadata": {
  "kernelspec": {
   "display_name": "Python 3",
   "language": "python",
   "name": "python3"
  },
  "language_info": {
   "codemirror_mode": {
    "name": "ipython",
    "version": 3
   },
   "file_extension": ".py",
   "mimetype": "text/x-python",
   "name": "python",
   "nbconvert_exporter": "python",
   "pygments_lexer": "ipython3",
   "version": "3.8.5"
  }
 },
 "nbformat": 4,
 "nbformat_minor": 5
}
