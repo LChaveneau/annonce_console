{
 "cells": [
  {
   "cell_type": "markdown",
   "id": "above-counter",
   "metadata": {},
   "source": [
    "# Test de la librairie "
   ]
  },
  {
   "cell_type": "code",
   "execution_count": 1,
   "id": "strong-crime",
   "metadata": {},
   "outputs": [],
   "source": [
    "import lib_modele as lib\n",
    "import pandas as pd"
   ]
  },
  {
   "cell_type": "code",
   "execution_count": 2,
   "id": "settled-plain",
   "metadata": {},
   "outputs": [],
   "source": [
    "dossier_travail = r\"C:\\Users\\Lucas\\Documents\\M2\\Python\\Projet\\version_propre\""
   ]
  },
  {
   "cell_type": "code",
   "execution_count": 3,
   "id": "solar-macintosh",
   "metadata": {},
   "outputs": [],
   "source": [
    "data = pd.read_csv(dossier_travail + \"\\data\\\\donnees_operationnel.tsv\", sep=\"\\t\")"
   ]
  },
  {
   "cell_type": "code",
   "execution_count": 4,
   "id": "vital-michael",
   "metadata": {},
   "outputs": [
    {
     "name": "stdout",
     "output_type": "stream",
     "text": [
      "LinearRegression\n",
      "SVR\n",
      "ElasticNet\n",
      "ARDRegression\n",
      "GammaRegressor\n",
      "StochasticGradientDescent\n",
      "Lasso\n",
      "KernelRidge\n",
      "KNN\n",
      "GaussianProcessRegressor\n",
      "PLSRegression\n",
      "PLSCanonical\n",
      "DecisionTreeRegressor\n",
      "ExtraTreeRegressor\n"
     ]
    }
   ],
   "source": [
    "lib.modele_accepte()"
   ]
  },
  {
   "cell_type": "code",
   "execution_count": 5,
   "id": "white-ethics",
   "metadata": {},
   "outputs": [
    {
     "name": "stdout",
     "output_type": "stream",
     "text": [
      "A decision tree regressor.\n",
      "\n",
      "    Read more in the :ref:`User Guide <tree>`.\n",
      "\n",
      "    Parameters\n",
      "    ----------\n",
      "    criterion : {\"squared_error\", \"mse\", \"friedman_mse\", \"absolute_error\",             \"mae\", \"poisson\"}, default=\"squared_error\"\n",
      "        The function to measure the quality of a split. Supported criteria\n",
      "        are \"squared_error\" for the mean squared error, which is equal to\n",
      "        variance reduction as feature selection criterion and minimizes the L2\n",
      "        loss using the mean of each terminal node, \"friedman_mse\", which uses\n",
      "        mean squared error with Friedman's improvement score for potential\n",
      "        splits, \"absolute_error\" for the mean absolute error, which minimizes\n",
      "        the L1 loss using the median of each terminal node, and \"poisson\" which\n",
      "        uses reduction in Poisson deviance to find splits.\n",
      "\n",
      "        .. versionadded:: 0.18\n",
      "           Mean Absolute Error (MAE) criterion.\n",
      "\n",
      "        .. versionadded:: 0.24\n",
      "            Poisson deviance criterion.\n",
      "\n",
      "        .. deprecated:: 1.0\n",
      "            Criterion \"mse\" was deprecated in v1.0 and will be removed in\n",
      "            version 1.2. Use `criterion=\"squared_error\"` which is equivalent.\n",
      "\n",
      "        .. deprecated:: 1.0\n",
      "            Criterion \"mae\" was deprecated in v1.0 and will be removed in\n",
      "            version 1.2. Use `criterion=\"absolute_error\"` which is equivalent.\n",
      "\n",
      "    splitter : {\"best\", \"random\"}, default=\"best\"\n",
      "        The strategy used to choose the split at each node. Supported\n",
      "        strategies are \"best\" to choose the best split and \"random\" to choose\n",
      "        the best random split.\n",
      "\n",
      "    max_depth : int, default=None\n",
      "        The maximum depth of the tree. If None, then nodes are expanded until\n",
      "        all leaves are pure or until all leaves contain less than\n",
      "        min_samples_split samples.\n",
      "\n",
      "    min_samples_split : int or float, default=2\n",
      "        The minimum number of samples required to split an internal node:\n",
      "\n",
      "        - If int, then consider `min_samples_split` as the minimum number.\n",
      "        - If float, then `min_samples_split` is a fraction and\n",
      "          `ceil(min_samples_split * n_samples)` are the minimum\n",
      "          number of samples for each split.\n",
      "\n",
      "        .. versionchanged:: 0.18\n",
      "           Added float values for fractions.\n",
      "\n",
      "    min_samples_leaf : int or float, default=1\n",
      "        The minimum number of samples required to be at a leaf node.\n",
      "        A split point at any depth will only be considered if it leaves at\n",
      "        least ``min_samples_leaf`` training samples in each of the left and\n",
      "        right branches.  This may have the effect of smoothing the model,\n",
      "        especially in regression.\n",
      "\n",
      "        - If int, then consider `min_samples_leaf` as the minimum number.\n",
      "        - If float, then `min_samples_leaf` is a fraction and\n",
      "          `ceil(min_samples_leaf * n_samples)` are the minimum\n",
      "          number of samples for each node.\n",
      "\n",
      "        .. versionchanged:: 0.18\n",
      "           Added float values for fractions.\n",
      "\n",
      "    min_weight_fraction_leaf : float, default=0.0\n",
      "        The minimum weighted fraction of the sum total of weights (of all\n",
      "        the input samples) required to be at a leaf node. Samples have\n",
      "        equal weight when sample_weight is not provided.\n",
      "\n",
      "    max_features : int, float or {\"auto\", \"sqrt\", \"log2\"}, default=None\n",
      "        The number of features to consider when looking for the best split:\n",
      "\n",
      "        - If int, then consider `max_features` features at each split.\n",
      "        - If float, then `max_features` is a fraction and\n",
      "          `int(max_features * n_features)` features are considered at each\n",
      "          split.\n",
      "        - If \"auto\", then `max_features=n_features`.\n",
      "        - If \"sqrt\", then `max_features=sqrt(n_features)`.\n",
      "        - If \"log2\", then `max_features=log2(n_features)`.\n",
      "        - If None, then `max_features=n_features`.\n",
      "\n",
      "        Note: the search for a split does not stop until at least one\n",
      "        valid partition of the node samples is found, even if it requires to\n",
      "        effectively inspect more than ``max_features`` features.\n",
      "\n",
      "    random_state : int, RandomState instance or None, default=None\n",
      "        Controls the randomness of the estimator. The features are always\n",
      "        randomly permuted at each split, even if ``splitter`` is set to\n",
      "        ``\"best\"``. When ``max_features < n_features``, the algorithm will\n",
      "        select ``max_features`` at random at each split before finding the best\n",
      "        split among them. But the best found split may vary across different\n",
      "        runs, even if ``max_features=n_features``. That is the case, if the\n",
      "        improvement of the criterion is identical for several splits and one\n",
      "        split has to be selected at random. To obtain a deterministic behaviour\n",
      "        during fitting, ``random_state`` has to be fixed to an integer.\n",
      "        See :term:`Glossary <random_state>` for details.\n",
      "\n",
      "    max_leaf_nodes : int, default=None\n",
      "        Grow a tree with ``max_leaf_nodes`` in best-first fashion.\n",
      "        Best nodes are defined as relative reduction in impurity.\n",
      "        If None then unlimited number of leaf nodes.\n",
      "\n",
      "    min_impurity_decrease : float, default=0.0\n",
      "        A node will be split if this split induces a decrease of the impurity\n",
      "        greater than or equal to this value.\n",
      "\n",
      "        The weighted impurity decrease equation is the following::\n",
      "\n",
      "            N_t / N * (impurity - N_t_R / N_t * right_impurity\n",
      "                                - N_t_L / N_t * left_impurity)\n",
      "\n",
      "        where ``N`` is the total number of samples, ``N_t`` is the number of\n",
      "        samples at the current node, ``N_t_L`` is the number of samples in the\n",
      "        left child, and ``N_t_R`` is the number of samples in the right child.\n",
      "\n",
      "        ``N``, ``N_t``, ``N_t_R`` and ``N_t_L`` all refer to the weighted sum,\n",
      "        if ``sample_weight`` is passed.\n",
      "\n",
      "        .. versionadded:: 0.19\n",
      "\n",
      "    ccp_alpha : non-negative float, default=0.0\n",
      "        Complexity parameter used for Minimal Cost-Complexity Pruning. The\n",
      "        subtree with the largest cost complexity that is smaller than\n",
      "        ``ccp_alpha`` will be chosen. By default, no pruning is performed. See\n",
      "        :ref:`minimal_cost_complexity_pruning` for details.\n",
      "\n",
      "        .. versionadded:: 0.22\n"
     ]
    }
   ],
   "source": [
    "lib.get_params(\"DecisionTreeRegressor\", description= True)"
   ]
  },
  {
   "cell_type": "code",
   "execution_count": 6,
   "id": "dated-miniature",
   "metadata": {},
   "outputs": [
    {
     "data": {
      "text/html": [
       "<div>\n",
       "<style scoped>\n",
       "    .dataframe tbody tr th:only-of-type {\n",
       "        vertical-align: middle;\n",
       "    }\n",
       "\n",
       "    .dataframe tbody tr th {\n",
       "        vertical-align: top;\n",
       "    }\n",
       "\n",
       "    .dataframe thead th {\n",
       "        text-align: right;\n",
       "    }\n",
       "</style>\n",
       "<table border=\"1\" class=\"dataframe\">\n",
       "  <thead>\n",
       "    <tr style=\"text-align: right;\">\n",
       "      <th></th>\n",
       "      <th>prix</th>\n",
       "      <th>livraison</th>\n",
       "      <th>etat</th>\n",
       "      <th>retour</th>\n",
       "      <th>memoire</th>\n",
       "      <th>console</th>\n",
       "      <th>manette</th>\n",
       "      <th>cable</th>\n",
       "      <th>nbjeu</th>\n",
       "      <th>edition</th>\n",
       "    </tr>\n",
       "  </thead>\n",
       "  <tbody>\n",
       "    <tr>\n",
       "      <th>0</th>\n",
       "      <td>99.90</td>\n",
       "      <td>4.9</td>\n",
       "      <td>Occasion</td>\n",
       "      <td>Oui</td>\n",
       "      <td>0.0</td>\n",
       "      <td>Saturn</td>\n",
       "      <td>oui</td>\n",
       "      <td>oui</td>\n",
       "      <td>0.0</td>\n",
       "      <td>non</td>\n",
       "    </tr>\n",
       "    <tr>\n",
       "      <th>1</th>\n",
       "      <td>780.00</td>\n",
       "      <td>19.9</td>\n",
       "      <td>Neuf</td>\n",
       "      <td>Oui</td>\n",
       "      <td>0.0</td>\n",
       "      <td>PS5 blu-ray</td>\n",
       "      <td>oui</td>\n",
       "      <td>oui</td>\n",
       "      <td>0.0</td>\n",
       "      <td>non</td>\n",
       "    </tr>\n",
       "    <tr>\n",
       "      <th>2</th>\n",
       "      <td>65.00</td>\n",
       "      <td>5.0</td>\n",
       "      <td>Occasion</td>\n",
       "      <td>Non</td>\n",
       "      <td>0.0</td>\n",
       "      <td>SNES</td>\n",
       "      <td>oui</td>\n",
       "      <td>oui</td>\n",
       "      <td>0.0</td>\n",
       "      <td>non</td>\n",
       "    </tr>\n",
       "    <tr>\n",
       "      <th>3</th>\n",
       "      <td>45.00</td>\n",
       "      <td>10.0</td>\n",
       "      <td>Reconditionné par le vendeur</td>\n",
       "      <td>Oui</td>\n",
       "      <td>0.0</td>\n",
       "      <td>Mega Drive</td>\n",
       "      <td>oui</td>\n",
       "      <td>oui</td>\n",
       "      <td>0.0</td>\n",
       "      <td>non</td>\n",
       "    </tr>\n",
       "    <tr>\n",
       "      <th>4</th>\n",
       "      <td>150.00</td>\n",
       "      <td>15.0</td>\n",
       "      <td>Occasion</td>\n",
       "      <td>Non</td>\n",
       "      <td>0.0</td>\n",
       "      <td>Wii U</td>\n",
       "      <td>oui</td>\n",
       "      <td>oui</td>\n",
       "      <td>10.0</td>\n",
       "      <td>non</td>\n",
       "    </tr>\n",
       "    <tr>\n",
       "      <th>...</th>\n",
       "      <td>...</td>\n",
       "      <td>...</td>\n",
       "      <td>...</td>\n",
       "      <td>...</td>\n",
       "      <td>...</td>\n",
       "      <td>...</td>\n",
       "      <td>...</td>\n",
       "      <td>...</td>\n",
       "      <td>...</td>\n",
       "      <td>...</td>\n",
       "    </tr>\n",
       "    <tr>\n",
       "      <th>4044</th>\n",
       "      <td>1150.47</td>\n",
       "      <td>0.0</td>\n",
       "      <td>Neuf</td>\n",
       "      <td>Non</td>\n",
       "      <td>500.0</td>\n",
       "      <td>PS4</td>\n",
       "      <td>oui</td>\n",
       "      <td>oui</td>\n",
       "      <td>0.0</td>\n",
       "      <td>oui</td>\n",
       "    </tr>\n",
       "    <tr>\n",
       "      <th>4045</th>\n",
       "      <td>200.00</td>\n",
       "      <td>70.0</td>\n",
       "      <td>Neuf</td>\n",
       "      <td>Non</td>\n",
       "      <td>0.0</td>\n",
       "      <td>Game Boy</td>\n",
       "      <td>oui</td>\n",
       "      <td>oui</td>\n",
       "      <td>0.0</td>\n",
       "      <td>non</td>\n",
       "    </tr>\n",
       "    <tr>\n",
       "      <th>4046</th>\n",
       "      <td>299.00</td>\n",
       "      <td>20.0</td>\n",
       "      <td>Occasion</td>\n",
       "      <td>Oui</td>\n",
       "      <td>0.0</td>\n",
       "      <td>Master System</td>\n",
       "      <td>oui</td>\n",
       "      <td>oui</td>\n",
       "      <td>0.0</td>\n",
       "      <td>non</td>\n",
       "    </tr>\n",
       "    <tr>\n",
       "      <th>4047</th>\n",
       "      <td>249.90</td>\n",
       "      <td>15.0</td>\n",
       "      <td>Occasion</td>\n",
       "      <td>Oui</td>\n",
       "      <td>0.0</td>\n",
       "      <td>Game Gear</td>\n",
       "      <td>oui</td>\n",
       "      <td>oui</td>\n",
       "      <td>0.0</td>\n",
       "      <td>non</td>\n",
       "    </tr>\n",
       "    <tr>\n",
       "      <th>4048</th>\n",
       "      <td>65.00</td>\n",
       "      <td>8.0</td>\n",
       "      <td>Occasion</td>\n",
       "      <td>Oui</td>\n",
       "      <td>0.0</td>\n",
       "      <td>PSP</td>\n",
       "      <td>oui</td>\n",
       "      <td>oui</td>\n",
       "      <td>7.0</td>\n",
       "      <td>non</td>\n",
       "    </tr>\n",
       "  </tbody>\n",
       "</table>\n",
       "<p>4049 rows × 10 columns</p>\n",
       "</div>"
      ],
      "text/plain": [
       "         prix  livraison                          etat retour  memoire  \\\n",
       "0       99.90        4.9                      Occasion    Oui      0.0   \n",
       "1      780.00       19.9                          Neuf    Oui      0.0   \n",
       "2       65.00        5.0                      Occasion    Non      0.0   \n",
       "3       45.00       10.0  Reconditionné par le vendeur    Oui      0.0   \n",
       "4      150.00       15.0                      Occasion    Non      0.0   \n",
       "...       ...        ...                           ...    ...      ...   \n",
       "4044  1150.47        0.0                          Neuf    Non    500.0   \n",
       "4045   200.00       70.0                          Neuf    Non      0.0   \n",
       "4046   299.00       20.0                      Occasion    Oui      0.0   \n",
       "4047   249.90       15.0                      Occasion    Oui      0.0   \n",
       "4048    65.00        8.0                      Occasion    Oui      0.0   \n",
       "\n",
       "            console manette cable  nbjeu edition  \n",
       "0            Saturn     oui   oui    0.0     non  \n",
       "1       PS5 blu-ray     oui   oui    0.0     non  \n",
       "2              SNES     oui   oui    0.0     non  \n",
       "3        Mega Drive     oui   oui    0.0     non  \n",
       "4             Wii U     oui   oui   10.0     non  \n",
       "...             ...     ...   ...    ...     ...  \n",
       "4044            PS4     oui   oui    0.0     oui  \n",
       "4045       Game Boy     oui   oui    0.0     non  \n",
       "4046  Master System     oui   oui    0.0     non  \n",
       "4047      Game Gear     oui   oui    0.0     non  \n",
       "4048            PSP     oui   oui    7.0     non  \n",
       "\n",
       "[4049 rows x 10 columns]"
      ]
     },
     "execution_count": 6,
     "metadata": {},
     "output_type": "execute_result"
    }
   ],
   "source": [
    "data = lib.traite_NA_data(data)\n",
    "data"
   ]
  },
  {
   "cell_type": "code",
   "execution_count": 19,
   "id": "inside-gentleman",
   "metadata": {},
   "outputs": [
    {
     "name": "stdout",
     "output_type": "stream",
     "text": [
      "Construction du modèle SVR ... Please wait ...\n",
      "Construction du modèle LinearRegression ... Please wait ...\n",
      "Construction du modèle DecisionTreeRegressor ... Please wait ...\n",
      "Construction et optimisation des modèles terminée !\n"
     ]
    }
   ],
   "source": [
    "lib.entraine_modeles(r\"C:\\Users\\Lucas\\Documents\\M2\\Python\\Projet\\version_propre\\Machine_learning\\modele\\\\\", data, extension = 'yaml')"
   ]
  },
  {
   "cell_type": "code",
   "execution_count": 20,
   "id": "documented-fitness",
   "metadata": {},
   "outputs": [
    {
     "data": {
      "text/plain": [
       "<module 'lib_modele' from 'C:\\\\Users\\\\Lucas\\\\Documents\\\\M2\\\\Python\\\\Projet\\\\version_propre\\\\Machine_learning\\\\lib_modele.py'>"
      ]
     },
     "execution_count": 20,
     "metadata": {},
     "output_type": "execute_result"
    }
   ],
   "source": [
    "import lib_modele\n",
    "from importlib import reload \n",
    "reload(lib_modele)"
   ]
  },
  {
   "cell_type": "code",
   "execution_count": 21,
   "id": "intensive-damage",
   "metadata": {},
   "outputs": [
    {
     "data": {
      "text/plain": [
       "[Metrics(modele='SVR', parametre={'C': 1, 'kernel': 'linear'}, error=0.034476395249313604, mse=214722.6054082883, mse_tr=72381.62195708646),\n",
       " Metrics(modele='LinearRegression', parametre=None, error=0.1392834216567796, mse=208600.64056182647, mse_tr=46414.09165743378),\n",
       " Metrics(modele='DecisionTreeRegressor', parametre={'max_depth': 10}, error=-0.1757918407920683, mse=239994.3905957005, mse_tr=105396.92819688373),\n",
       " Metrics(modele='SVR', parametre={'C': 1, 'kernel': 'linear'}, error=0.03802450685124339, mse=218022.62766180956, mse_tr=61293.33658817615),\n",
       " Metrics(modele='LinearRegression', parametre=None, error=0.20256239262727255, mse=72608.70934453231, mse_tr=445998.1202320515),\n",
       " Metrics(modele='DecisionTreeRegressor', parametre={'max_depth': 100}, error=-1.857097585616205, mse=599540.0679148401, mse_tr=110332.07904884171),\n",
       " Metrics(modele='SVR', parametre={'C': 1, 'kernel': 'linear'}, error=0.08982227080802191, mse=187853.1270645811, mse_tr=149754.8435795744),\n",
       " Metrics(modele='LinearRegression', parametre=None, error=0.19651721026085184, mse=111727.5841160083, mse_tr=323420.7635742605),\n",
       " Metrics(modele='DecisionTreeRegressor', parametre={'max_depth': 10}, error=-0.9705814487647005, mse=313705.4833825323, mse_tr=99959.0878903793),\n",
       " Metrics(modele='SVR', parametre={'C': 1, 'kernel': 'linear'}, error=0.09148124895616093, mse=111899.80456450197, mse_tr=378797.50809095893),\n",
       " Metrics(modele='LinearRegression', parametre=None, error=0.19282959726712834, mse=179730.89512758254, mse_tr=127265.49878222239),\n",
       " Metrics(modele='DecisionTreeRegressor', parametre={'max_depth': 10}, error=-2.5596086279005137, mse=370093.4574614732, mse_tr=216004.02244453813)]"
      ]
     },
     "execution_count": 21,
     "metadata": {},
     "output_type": "execute_result"
    }
   ],
   "source": [
    "results = lib_modele.load_resultats(r\"C:\\Users\\Lucas\\Documents\\M2\\Python\\Projet\\version_propre\\Machine_learning\\modele\\\\\")\n",
    "results"
   ]
  },
  {
   "cell_type": "code",
   "execution_count": 22,
   "id": "dynamic-elizabeth",
   "metadata": {},
   "outputs": [
    {
     "data": {
      "text/html": [
       "<pre style=\"white-space:pre;overflow-x:auto;line-height:normal;font-family:Menlo,'DejaVu Sans Mono',consolas,'Courier New',monospace\"><span style=\"font-style: italic\">                  Résultats et paramètres optimaux des modèles                   </span>\n",
       "┏━━━━━━━━━━━━━━━━━━━━━━━┳━━━━━━━━━━━━━━━━━┳━━━━━━━━━━━━━┳━━━━━━━━━━━┳━━━━━━━━━━━┓\n",
       "┃<span style=\"font-weight: bold\"> Modèle                </span>┃<span style=\"font-weight: bold\"> Paramètre       </span>┃<span style=\"font-weight: bold\"> Error by CV </span>┃<span style=\"font-weight: bold\"> MSE by CV </span>┃<span style=\"font-weight: bold\"> train MSE </span>┃\n",
       "┡━━━━━━━━━━━━━━━━━━━━━━━╇━━━━━━━━━━━━━━━━━╇━━━━━━━━━━━━━╇━━━━━━━━━━━╇━━━━━━━━━━━┩\n",
       "│ SVR                   │ C = 1           │ 0.034       │ 214723    │ 72382     │\n",
       "│                       │ kernel = linear │             │           │           │\n",
       "│                       │                 │             │           │           │\n",
       "│ LinearRegression      │                 │ 0.139       │ 208601    │ 46414     │\n",
       "│ DecisionTreeRegressor │ max_depth = 10  │ -0.176      │ 239994    │ 105397    │\n",
       "│                       │                 │             │           │           │\n",
       "│ SVR                   │ C = 1           │ 0.038       │ 218023    │ 61293     │\n",
       "│                       │ kernel = linear │             │           │           │\n",
       "│                       │                 │             │           │           │\n",
       "│ LinearRegression      │                 │ 0.203       │ 72609     │ 445998    │\n",
       "│ DecisionTreeRegressor │ max_depth = 100 │ -1.857      │ 599540    │ 110332    │\n",
       "│                       │                 │             │           │           │\n",
       "│ SVR                   │ C = 1           │ 0.09        │ 187853    │ 149755    │\n",
       "│                       │ kernel = linear │             │           │           │\n",
       "│                       │                 │             │           │           │\n",
       "│ LinearRegression      │                 │ 0.197       │ 111728    │ 323421    │\n",
       "│ DecisionTreeRegressor │ max_depth = 10  │ -0.971      │ 313705    │ 99959     │\n",
       "│                       │                 │             │           │           │\n",
       "│ SVR                   │ C = 1           │ 0.091       │ 111900    │ 378798    │\n",
       "│                       │ kernel = linear │             │           │           │\n",
       "│                       │                 │             │           │           │\n",
       "│ LinearRegression      │                 │ 0.193       │ 179731    │ 127265    │\n",
       "│ DecisionTreeRegressor │ max_depth = 10  │ -2.56       │ 370093    │ 216004    │\n",
       "│                       │                 │             │           │           │\n",
       "└───────────────────────┴─────────────────┴─────────────┴───────────┴───────────┘\n",
       "</pre>\n"
      ],
      "text/plain": [
       "<rich.table.Table at 0x1ce425cbfa0>"
      ]
     },
     "execution_count": 22,
     "metadata": {},
     "output_type": "execute_result"
    }
   ],
   "source": [
    "lib_modele.presente_resultats(results)"
   ]
  },
  {
   "cell_type": "code",
   "execution_count": 23,
   "id": "anonymous-merchandise",
   "metadata": {},
   "outputs": [],
   "source": [
    "best_mod = lib_modele.meilleur_modele(results, by = \"mse\")"
   ]
  },
  {
   "cell_type": "code",
   "execution_count": 24,
   "id": "historical-radius",
   "metadata": {},
   "outputs": [
    {
     "data": {
      "text/plain": [
       "Modele(modele='SVR', parametre={'C': 1, 'kernel': 'linear'})"
      ]
     },
     "execution_count": 24,
     "metadata": {},
     "output_type": "execute_result"
    }
   ],
   "source": [
    "best_mod"
   ]
  },
  {
   "cell_type": "code",
   "execution_count": 25,
   "id": "interim-audience",
   "metadata": {},
   "outputs": [],
   "source": [
    "coucou = lib_modele.construi_meilleur_modele(best_mod, data)"
   ]
  },
  {
   "cell_type": "code",
   "execution_count": 27,
   "id": "heavy-worthy",
   "metadata": {},
   "outputs": [
    {
     "data": {
      "text/plain": [
       "SVR(C=1, kernel='linear')"
      ]
     },
     "execution_count": 27,
     "metadata": {},
     "output_type": "execute_result"
    }
   ],
   "source": [
    "coucou"
   ]
  },
  {
   "cell_type": "code",
   "execution_count": null,
   "id": "respiratory-layout",
   "metadata": {},
   "outputs": [],
   "source": []
  }
 ],
 "metadata": {
  "kernelspec": {
   "display_name": "Python 3",
   "language": "python",
   "name": "python3"
  },
  "language_info": {
   "codemirror_mode": {
    "name": "ipython",
    "version": 3
   },
   "file_extension": ".py",
   "mimetype": "text/x-python",
   "name": "python",
   "nbconvert_exporter": "python",
   "pygments_lexer": "ipython3",
   "version": "3.8.5"
  }
 },
 "nbformat": 4,
 "nbformat_minor": 5
}
