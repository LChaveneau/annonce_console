{
 "cells": [
  {
   "cell_type": "code",
   "execution_count": 1,
   "id": "logical-movie",
   "metadata": {},
   "outputs": [],
   "source": [
    "from bs4 import BeautifulSoup\n",
    "import time\n",
    "from selenium import webdriver\n",
    "from selenium.webdriver.common.keys import Keys\n",
    "import requests\n",
    "from random import *\n",
    "import pandas as pd\n",
    "from selenium.webdriver.firefox.firefox_profile import FirefoxProfile\n",
    "import os\n",
    "from torrequest import TorRequest\n",
    "import subprocess\n",
    "import signal\n",
    "from subprocess import check_output\n",
    "from selenium.webdriver.firefox.options import Options\n",
    "from fake_useragent import UserAgent"
   ]
  },
  {
   "cell_type": "code",
   "execution_count": 2,
   "id": "deadly-unemployment",
   "metadata": {},
   "outputs": [],
   "source": [
    "link = \"https://www.leboncoin.fr/recherche?text=assassin%27s%20creed\""
   ]
  },
  {
   "cell_type": "code",
   "execution_count": 3,
   "id": "harmful-resistance",
   "metadata": {},
   "outputs": [],
   "source": [
    "def lancer_tor(link):\n",
    "    torexe = subprocess.Popen(\n",
    "        \"C:\\\\Users\\Lucas\\\\Desktop\\\\Tor Browser\\\\Browser\\\\firefox.exe\")  # , shell=True\n",
    "    profile = FirefoxProfile(\n",
    "        r'C:\\Users\\Lucas\\Desktop\\Tor Browser\\Browser\\TorBrowser\\Data\\Browser\\profile.default')\n",
    "    profile.set_preference('network.proxy.type', 1)\n",
    "    profile.set_preference('network.proxy.socks', '127.0.0.1')\n",
    "    profile.set_preference('network.proxy.socks_port', 9150)\n",
    "    profile.set_preference(\"network.proxy.socks_remote_dns\", False)\n",
    "    profile.update_preferences()\n",
    "    options = webdriver.FirefoxOptions()\n",
    "    ua = UserAgent()\n",
    "    userAgent = ua.random\n",
    "    print(userAgent)\n",
    "    options.add_argument(f'user-agent={userAgent}')\n",
    "    driver = webdriver.Firefox(\n",
    "        firefox_profile=profile, options=Options(), executable_path=r'C:\\\\Program Files (x86)\\\\geckodriver.exe')\n",
    "\n",
    "    driver.get(link)\n",
    "    content = driver.page_source.encode('utf-8').strip()\n",
    "    soup = BeautifulSoup(content, \"html.parser\")\n",
    "    return soup"
   ]
  },
  {
   "cell_type": "code",
   "execution_count": 4,
   "id": "protecting-galaxy",
   "metadata": {},
   "outputs": [],
   "source": [
    "def fermer_tor():\n",
    "    time.sleep(5)\n",
    "    driver.quit()\n",
    "    # time.sleep(5)\n",
    "    command = \"Taskkill /IM firefox.exe\"  # /F\n",
    "    proc = subprocess.Popen(command)"
   ]
  },
  {
   "cell_type": "code",
   "execution_count": 5,
   "id": "charming-diesel",
   "metadata": {},
   "outputs": [
    {
     "name": "stderr",
     "output_type": "stream",
     "text": [
      "<ipython-input-3-1e7e160ec76a>:4: DeprecationWarning: firefox_profile has been deprecated, please use an Options object\n",
      "  profile = FirefoxProfile(\n",
      "<ipython-input-3-1e7e160ec76a>:16: DeprecationWarning: executable_path has been deprecated, please pass in a Service object\n",
      "  driver = webdriver.Firefox(\n",
      "<ipython-input-3-1e7e160ec76a>:16: DeprecationWarning: firefox_profile has been deprecated, please pass in an Options object\n",
      "  driver = webdriver.Firefox(\n"
     ]
    },
    {
     "name": "stdout",
     "output_type": "stream",
     "text": [
      "Mozilla/5.0 (Windows NT 6.1) AppleWebKit/537.36 (KHTML, like Gecko) Chrome/28.0.1468.0 Safari/537.36\n"
     ]
    }
   ],
   "source": [
    "soup = lancer_tor(link)"
   ]
  },
  {
   "cell_type": "markdown",
   "id": "psychological-deficit",
   "metadata": {},
   "source": []
  },
  {
   "cell_type": "code",
   "execution_count": 6,
   "id": "essential-volleyball",
   "metadata": {},
   "outputs": [
    {
     "name": "stderr",
     "output_type": "stream",
     "text": [
      "<ipython-input-3-1e7e160ec76a>:4: DeprecationWarning: firefox_profile has been deprecated, please use an Options object\n",
      "  profile = FirefoxProfile(\n",
      "<ipython-input-3-1e7e160ec76a>:16: DeprecationWarning: executable_path has been deprecated, please pass in a Service object\n",
      "  driver = webdriver.Firefox(\n",
      "<ipython-input-3-1e7e160ec76a>:16: DeprecationWarning: firefox_profile has been deprecated, please pass in an Options object\n",
      "  driver = webdriver.Firefox(\n"
     ]
    },
    {
     "name": "stdout",
     "output_type": "stream",
     "text": [
      "Mozilla/5.0 (Macintosh; Intel Mac OS X 10_9_0) AppleWebKit/537.36 (KHTML, like Gecko) Chrome/32.0.1664.3 Safari/537.36\n"
     ]
    },
    {
     "ename": "NameError",
     "evalue": "name 'driver' is not defined",
     "output_type": "error",
     "traceback": [
      "\u001b[1;31m---------------------------------------------------------------------------\u001b[0m",
      "\u001b[1;31mNameError\u001b[0m                                 Traceback (most recent call last)",
      "\u001b[1;32m<ipython-input-6-13650e503059>\u001b[0m in \u001b[0;36m<module>\u001b[1;34m\u001b[0m\n\u001b[0;32m      9\u001b[0m \u001b[1;33m\u001b[0m\u001b[0m\n\u001b[0;32m     10\u001b[0m \u001b[1;32mwhile\u001b[0m \u001b[0mval_a\u001b[0m \u001b[1;33m==\u001b[0m \u001b[1;34m\"'geo.captcha-delivery.com'}</script>\"\u001b[0m\u001b[1;33m:\u001b[0m\u001b[1;33m\u001b[0m\u001b[1;33m\u001b[0m\u001b[0m\n\u001b[1;32m---> 11\u001b[1;33m     \u001b[0mfermer_tor\u001b[0m\u001b[1;33m(\u001b[0m\u001b[1;33m)\u001b[0m\u001b[1;33m\u001b[0m\u001b[1;33m\u001b[0m\u001b[0m\n\u001b[0m\u001b[0;32m     12\u001b[0m     \u001b[0msoup\u001b[0m \u001b[1;33m=\u001b[0m \u001b[0mlancer_tor\u001b[0m\u001b[1;33m(\u001b[0m\u001b[0mlink\u001b[0m\u001b[1;33m)\u001b[0m\u001b[1;33m\u001b[0m\u001b[1;33m\u001b[0m\u001b[0m\n\u001b[0;32m     13\u001b[0m     \u001b[1;32mtry\u001b[0m\u001b[1;33m:\u001b[0m\u001b[1;33m\u001b[0m\u001b[1;33m\u001b[0m\u001b[0m\n",
      "\u001b[1;32m<ipython-input-4-707227960f70>\u001b[0m in \u001b[0;36mfermer_tor\u001b[1;34m()\u001b[0m\n\u001b[0;32m      1\u001b[0m \u001b[1;32mdef\u001b[0m \u001b[0mfermer_tor\u001b[0m\u001b[1;33m(\u001b[0m\u001b[1;33m)\u001b[0m\u001b[1;33m:\u001b[0m\u001b[1;33m\u001b[0m\u001b[1;33m\u001b[0m\u001b[0m\n\u001b[0;32m      2\u001b[0m     \u001b[0mtime\u001b[0m\u001b[1;33m.\u001b[0m\u001b[0msleep\u001b[0m\u001b[1;33m(\u001b[0m\u001b[1;36m5\u001b[0m\u001b[1;33m)\u001b[0m\u001b[1;33m\u001b[0m\u001b[1;33m\u001b[0m\u001b[0m\n\u001b[1;32m----> 3\u001b[1;33m     \u001b[0mdriver\u001b[0m\u001b[1;33m.\u001b[0m\u001b[0mquit\u001b[0m\u001b[1;33m(\u001b[0m\u001b[1;33m)\u001b[0m\u001b[1;33m\u001b[0m\u001b[1;33m\u001b[0m\u001b[0m\n\u001b[0m\u001b[0;32m      4\u001b[0m     \u001b[1;31m# time.sleep(5)\u001b[0m\u001b[1;33m\u001b[0m\u001b[1;33m\u001b[0m\u001b[1;33m\u001b[0m\u001b[0m\n\u001b[0;32m      5\u001b[0m     \u001b[0mcommand\u001b[0m \u001b[1;33m=\u001b[0m \u001b[1;34m\"Taskkill /IM firefox.exe\"\u001b[0m  \u001b[1;31m# /F\u001b[0m\u001b[1;33m\u001b[0m\u001b[1;33m\u001b[0m\u001b[0m\n",
      "\u001b[1;31mNameError\u001b[0m: name 'driver' is not defined"
     ]
    }
   ],
   "source": [
    "soup = lancer_tor(link)\n",
    "\n",
    "try:\n",
    "    a = soup.find_all('script')\n",
    "    val_a = str(a[0]).split(':')[-1]\n",
    "except:\n",
    "    a = \"ok\"\n",
    "    print('ok')\n",
    "    \n",
    "while val_a == \"'geo.captcha-delivery.com'}</script>\":\n",
    "    fermer_tor()\n",
    "    soup = lancer_tor(link)\n",
    "    try:\n",
    "        a = soup.find_all('script')\n",
    "        val_a = str(a[0]).split(':')[-1]\n",
    "        print(a)\n",
    "    except:\n",
    "        a = \"ok\"\n",
    "        print('ok')"
   ]
  },
  {
   "cell_type": "code",
   "execution_count": null,
   "id": "streaming-innocent",
   "metadata": {},
   "outputs": [],
   "source": []
  }
 ],
 "metadata": {
  "kernelspec": {
   "display_name": "Python 3",
   "language": "python",
   "name": "python3"
  },
  "language_info": {
   "codemirror_mode": {
    "name": "ipython",
    "version": 3
   },
   "file_extension": ".py",
   "mimetype": "text/x-python",
   "name": "python",
   "nbconvert_exporter": "python",
   "pygments_lexer": "ipython3",
   "version": "3.8.5"
  }
 },
 "nbformat": 4,
 "nbformat_minor": 5
}
